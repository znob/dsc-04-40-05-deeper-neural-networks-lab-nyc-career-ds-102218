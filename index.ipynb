{
 "cells": [
  {
   "cell_type": "markdown",
   "metadata": {},
   "source": [
    "# Deeper Neural Networks - lab"
   ]
  },
  {
   "cell_type": "markdown",
   "metadata": {},
   "source": [
    "## Introduction\n",
    "In this lab, we'll extend our neural networks knowledge further and add one hidden layer in our neural network. \n",
    "\n",
    "We'll perform forward propagation, backward propagation, and work with activation functions we haven't used before: the hyperbolic tangent or \"tanh\" activation function. Let's get started!\n",
    "\n",
    "## Objectives:\n",
    "\n",
    "You will be able to:\n",
    "* Generate a random dataset\n",
    "* Graph a decision boundary for a 2 variable classifier\n",
    "* Create a Neural Net Classifier"
   ]
  },
  {
   "cell_type": "markdown",
   "metadata": {},
   "source": [
    "## Import packages and generate the data"
   ]
  },
  {
   "cell_type": "markdown",
   "metadata": {},
   "source": [
    "Let's first start with importing the necessary libraries. We'll use plotting as well as numpy. Additionally, we'll generate our own data using scikit-learn, so we have to use that library as well."
   ]
  },
  {
   "cell_type": "code",
   "execution_count": null,
   "metadata": {},
   "outputs": [],
   "source": [
    "# Code provided; just run this cell\n",
    "# Package imports\n",
    "import matplotlib\n",
    "import matplotlib.pyplot as plt\n",
    "import numpy as np\n",
    "import sklearn\n",
    "from sklearn.datasets import make_classification\n",
    "import sklearn.linear_model\n",
    "\n",
    "# Display plots inline and change default figure size\n",
    "%matplotlib inline\n",
    "matplotlib.rcParams['figure.figsize'] = (6.0, 6.0)"
   ]
  },
  {
   "cell_type": "markdown",
   "metadata": {},
   "source": [
    "Next, let's generate our data. Scikit-learns enables the creation of simple toy datasets to visualize clustering and classification algorithms. One of them is called `make_circles` and generates a a large circle containing a smaller circle in 2D. `make_circles`-function has several arguments, but here we'll just use 2: `n_samples` and `noise`. We'll create a data set with 500 samples, and insert noise equal to 0.1."
   ]
  },
  {
   "cell_type": "code",
   "execution_count": null,
   "metadata": {},
   "outputs": [],
   "source": [
    "#Code provided; just run this cell\n",
    "# Generate a dataset and plot it\n",
    "np.random.seed(123)\n",
    "sample_size = 500\n",
    "X, Y = sklearn.datasets.make_circles(n_samples = sample_size, noise = 0.1)\n",
    "# Display plots inline and change default figure size\n",
    "%matplotlib inline\n",
    "matplotlib.rcParams['figure.figsize'] = (6.0, 6.0)\n",
    "plt.scatter(X[:,0], X[:,1], s=20, c=Y, edgecolors=\"gray\")"
   ]
  },
  {
   "cell_type": "markdown",
   "metadata": {},
   "source": [
    "Note that we just generated to \"classes\": the yellow dots and the purple dots. The goal of this lab is to create a model which can create a so-called \"decision boundry\" to distinguish the smaller (yellow) circle from the larger (purple) one."
   ]
  },
  {
   "cell_type": "markdown",
   "metadata": {},
   "source": [
    "We'll build a neural network to do this. But first, let's build a logistic regression model and see how that model performs. "
   ]
  },
  {
   "cell_type": "markdown",
   "metadata": {},
   "source": [
    "## Build a logistic regression model"
   ]
  },
  {
   "cell_type": "markdown",
   "metadata": {},
   "source": [
    "Use the Scikit-learn function `linear_model.LogisticRegression()` to build a logistic regression model. (This should include initialization and fitting the model to our data.)"
   ]
  },
  {
   "cell_type": "code",
   "execution_count": null,
   "metadata": {},
   "outputs": [],
   "source": [
    "#Your code here"
   ]
  },
  {
   "cell_type": "markdown",
   "metadata": {},
   "source": [
    "You'll use this helper function to visualize the classification performance."
   ]
  },
  {
   "cell_type": "code",
   "execution_count": null,
   "metadata": {},
   "outputs": [],
   "source": [
    "#Code provided; just run this cell\n",
    "def plot_decision_boundary(pred_func):\n",
    "    # Set min and max values and give it some padding\n",
    "    x_min, x_max = X[:, 0].min() - .3, X[:, 0].max() + .3\n",
    "    y_min, y_max = X[:, 1].min() - .3, X[:, 1].max() + .3\n",
    "    h = 0.005\n",
    "    # Generate a grid of points with distance h between them\n",
    "    xx, yy = np.meshgrid(np.arange(x_min, x_max, h), np.arange(y_min, y_max, h))\n",
    "    # Predict the function value for the whole gid\n",
    "    Z = pred_func(np.c_[xx.ravel(), yy.ravel()])\n",
    "    Z = Z.reshape(xx.shape)\n",
    "    # Plot the contour and training examples\n",
    "    plt.contourf(xx, yy, Z)\n",
    "    plt.scatter(X[:, 0], X[:, 1],s=20, c=Y ,edgecolors=\"gray\")"
   ]
  },
  {
   "cell_type": "markdown",
   "metadata": {},
   "source": [
    "In the helper function, let's create a lambda function inside `plot_decision_boundary` in order to create a decision boundart using the predictions made by the logistic regression model `log_reg`."
   ]
  },
  {
   "cell_type": "code",
   "execution_count": null,
   "metadata": {},
   "outputs": [],
   "source": [
    "#Your code here\n",
    "#Use the helper function provided to plot the decision boundary of your classifier above."
   ]
  },
  {
   "cell_type": "markdown",
   "metadata": {},
   "source": [
    "Now explicitly store the predictions using `X` in `log_reg_predict`, so we can calculate the accuracy.`m"
   ]
  },
  {
   "cell_type": "code",
   "execution_count": null,
   "metadata": {},
   "outputs": [],
   "source": [
    "log_reg_predict = #Your code here"
   ]
  },
  {
   "cell_type": "code",
   "execution_count": null,
   "metadata": {},
   "outputs": [],
   "source": [
    "#Code provided; just run this cell\n",
    "print ('The logistic regression model has an accuracy of: ' \n",
    "       + str(np.sum(log_reg_predict == Y)/sample_size*100) + '%')"
   ]
  },
  {
   "cell_type": "markdown",
   "metadata": {},
   "source": [
    "**How did this model perform? Is this a surprise? **"
   ]
  },
  {
   "cell_type": "markdown",
   "metadata": {},
   "source": [
    "## Build a neural network"
   ]
  },
  {
   "cell_type": "markdown",
   "metadata": {},
   "source": [
    "## Network architecture and data pre-processing"
   ]
  },
  {
   "cell_type": "markdown",
   "metadata": {},
   "source": [
    "Let's see if a neural network can do better. In what follows, you'll build a neural network with one hidden layer (the hidden layer has 6 units, as follows):"
   ]
  },
  {
   "cell_type": "markdown",
   "metadata": {},
   "source": [
    "![title](figures/lab_2_graph.png)"
   ]
  },
  {
   "cell_type": "markdown",
   "metadata": {},
   "source": [
    "Let's reintroduce some of the terminology.\n",
    "\n",
    "- remember that the input layer passes on $a^{[0]}$ to the next layer, which simply is equal to $x = (x_1, x_2)$. \n",
    "\n",
    "- The hidden layer passes on $a^{[1]} = \\begin{bmatrix} a^{[1]}_1  \\\\a^{[1]}_2 \\\\ a^{[1]}_3 \\\\ a^{[1]}_4\\\\ a^{[1]}_5\\\\ a^{[1]}_6\\end{bmatrix}$\n",
    "\n",
    "- The final layer outputs $a^{[2]}$ which is $\\hat y$."
   ]
  },
  {
   "cell_type": "markdown",
   "metadata": {},
   "source": [
    "Note that the input layer has 2 inputs, $x_1$ and $x_2$ (which are basically the x- and y-coordinates in the graph with the two circles above). Let's look at the shape of the X-matrix."
   ]
  },
  {
   "cell_type": "code",
   "execution_count": null,
   "metadata": {},
   "outputs": [],
   "source": [
    "#Your code here; print the shape of X to the console"
   ]
  },
  {
   "cell_type": "markdown",
   "metadata": {},
   "source": [
    "Remember that for the neural networks, we want the number of inputs to be rows and the number of cases to be columns. Hence we transpose this matrix."
   ]
  },
  {
   "cell_type": "code",
   "execution_count": null,
   "metadata": {},
   "outputs": [],
   "source": [
    "X_nn = #Your code here; take the transpose of the original matrix"
   ]
  },
  {
   "cell_type": "markdown",
   "metadata": {},
   "source": [
    "Similarly, for the labels, we like to have a row-matrix."
   ]
  },
  {
   "cell_type": "code",
   "execution_count": null,
   "metadata": {},
   "outputs": [],
   "source": [
    "Y_nn = #Your code here"
   ]
  },
  {
   "cell_type": "code",
   "execution_count": null,
   "metadata": {},
   "outputs": [],
   "source": [
    "#Check the shape of your resulting objects"
   ]
  },
  {
   "cell_type": "markdown",
   "metadata": {},
   "source": [
    "As per the network architecture above, there are two nodes in the input layer, and 1 node in the output layer (with a sigmoid activation). This will create three objects to store the size of each layer: `n_0`, `n_1` and `n_2`. `n_0` (input layer size) and `n_2` (output layer size) are defined by the data, `n_1` is a hyperparameter and can be changed to optimize the result! For this exercise, we've chosen to have 6 nodes in the hidden layer, so let's hardcode the size `n_1` equal to 6. "
   ]
  },
  {
   "cell_type": "code",
   "execution_count": null,
   "metadata": {},
   "outputs": [],
   "source": [
    "n_0 = #Your code here; appropriately define each variable\n",
    "n_1 = #Your code here; appropriately define each variable\n",
    "n_2 = #Your code here; appropriately define each variable"
   ]
  },
  {
   "cell_type": "markdown",
   "metadata": {},
   "source": [
    "## Forward propagation"
   ]
  },
  {
   "cell_type": "markdown",
   "metadata": {},
   "source": [
    "Let's start forward propagating from $a^{[0]}$ to $a^{[1]}$. Recall that this is a function which takes our input layer $a^{[0]}$ and transforms it to the hidden layer $a^{[1]}$.  \n",
    "Note that for each sample $x^{(i)}= (x_{1}^{(i)},x_{2}^{(i)})$, we compute $a^{[1] (i)}$:\n",
    "First, let's get to $z^{[1] (i)}$ using $W^{[1]}$ and  $b^{[1]}$:\n",
    "\n",
    "$$z^{[1] (i)} =  W^{[1]} x^{(i)} + b^{[1]}$$ \n",
    "\n",
    "Then, we'll use the hyperbolic tangent function as an activation function to get to $a^{[1] (i)}$.\n",
    "\n",
    "$$a^{[1] (i)} = \\tanh(z^{[1] (i)})$$\n"
   ]
  },
  {
   "cell_type": "markdown",
   "metadata": {},
   "source": [
    "In this example, $W^{[1]}$ is a (6 x 2)-matrix, $b^{[1]}$ is a (6 x 1)-matrix."
   ]
  },
  {
   "cell_type": "markdown",
   "metadata": {},
   "source": [
    "In order to get to $a^{[1] (i)}$, we need to initialize this $W^{[1]}$ and $b^{[1]}$. \n",
    "Let's initialize $b^{[1]}$ as a matrix of zeroes, and $W^{[1]}$ as a matrix with random number generated by the standard normal distribution, but then multiplied by 0.05 to make them smaller.\n",
    "\n",
    "Next, let's go one step further and do the same thing for $W^{[2]}$ and $b^{[2]}$.\n",
    "Recall that: \n",
    "$$z^{[2] (i)} =  W^{[2]} a^{[1](i)} + b^{[2]}$$ \n",
    "\n",
    "What are the correct dimensions for $W^{[2]}$ and $b^{[2]}$? Use `n_0`, `n_1` and `n_2`, and look at the network graph above to get to the right dimensions!\n"
   ]
  },
  {
   "cell_type": "code",
   "execution_count": null,
   "metadata": {},
   "outputs": [],
   "source": [
    "#Code provided; simply run this cell block\n",
    "def initialize_parameters(n_0, n_1, n_2):\n",
    "    np.random.seed(123) \n",
    "    W1 = np.random.randn(n_1, n_0) * 0.05 \n",
    "    b1 = np.zeros((n_1, 1))\n",
    "    W2 =  np.random.randn(n_2, n_1) * 0.05 \n",
    "    b2 = np.zeros((n_2, 1))\n",
    "    \n",
    "    parameters = {\"W1\": W1,\n",
    "                  \"b1\": b1,\n",
    "                  \"W2\": W2,\n",
    "                  \"b2\": b2}\n",
    "    \n",
    "    return parameters"
   ]
  },
  {
   "cell_type": "code",
   "execution_count": null,
   "metadata": {},
   "outputs": [],
   "source": [
    "parameters = #Use the provided function along with your variable presets above to store the parameters here. "
   ]
  },
  {
   "cell_type": "code",
   "execution_count": 16,
   "metadata": {},
   "outputs": [
    {
     "data": {
      "text/plain": [
       "{'W1': array([[-0.05428153,  0.04986727],\n",
       "        [ 0.01414892, -0.07531474],\n",
       "        [-0.02893001,  0.08257183],\n",
       "        [-0.12133396, -0.02144563],\n",
       "        [ 0.06329681, -0.04333702],\n",
       "        [-0.03394431, -0.00473545]]), 'b1': array([[0.],\n",
       "        [0.],\n",
       "        [0.],\n",
       "        [0.],\n",
       "        [0.],\n",
       "        [0.]]), 'W2': array([[ 0.07456948, -0.0319451 , -0.0221991 , -0.02171756,  0.1102965 ,\n",
       "          0.1093393 ]]), 'b2': array([[0.]])}"
      ]
     },
     "execution_count": 16,
     "metadata": {},
     "output_type": "execute_result"
    }
   ],
   "source": [
    "parameters #Simply run this code block; your output should match the results previewed here."
   ]
  },
  {
   "cell_type": "markdown",
   "metadata": {},
   "source": [
    "Now let's perform the actual forward propagation step to calculate  $z^{[1]}, a^{[1]}, z^{[2]}$ and $a^{[2]}$. You can use the function `np.tanh()` to compute the hyperbolic tangent function. Additionally, remember that $$\\hat{y}^{(i)} = a^{[2] (i)} = \\sigma(z^{ [2] (i)}).$$\n",
    "You can compute the sigmoid as $\\sigma(z^{ [2] (i)}) = \\displaystyle\\frac{1}{1 + \\exp(z^{ [2] (i)})}$\n"
   ]
  },
  {
   "cell_type": "code",
   "execution_count": null,
   "metadata": {},
   "outputs": [],
   "source": [
    "#Finish this partially defined function as noted in the comments below.\n",
    "def forward_propagation(X, parameters):\n",
    "    W1 = #Your code here; retrieve the appropriate values from the parameters object \n",
    "    b1 = #Your code here; retrieve the appropriate values from the parameters object \n",
    "    W2 = #Your code here; retrieve the appropriate values from the parameters object \n",
    "    b2 = #Your code here; retrieve the appropriate values from the parameters object \n",
    "    \n",
    "    Z1 =  #Your code here; write a formula to calculate Z1\n",
    "    A1 =  #Your code here; write a formula to calculate A1\n",
    "    Z2 =  #Your code here; write a formula to calculate Z2\n",
    "    A2 =  #Your code here; write a formula to calculate A2\n",
    "        \n",
    "    fw_out = {\"Z1\": Z1,\n",
    "              \"A1\": A1,\n",
    "              \"Z2\": Z2,\n",
    "              \"A2\": A2}\n",
    "    \n",
    "    return fw_out"
   ]
  },
  {
   "cell_type": "code",
   "execution_count": null,
   "metadata": {},
   "outputs": [],
   "source": [
    "fw_out = #Your code here; call your function above along with our defined parameters."
   ]
  },
  {
   "cell_type": "markdown",
   "metadata": {},
   "source": [
    "Inspect `Z1`, `A1`, `Z2` and `A2` and make sure that the shape of all the outputs is correct!"
   ]
  },
  {
   "cell_type": "code",
   "execution_count": null,
   "metadata": {},
   "outputs": [],
   "source": [
    "#Your code here; check the shape of Z1"
   ]
  },
  {
   "cell_type": "code",
   "execution_count": null,
   "metadata": {},
   "outputs": [],
   "source": [
    "#Your code here; check the shape of Z2"
   ]
  },
  {
   "cell_type": "code",
   "execution_count": null,
   "metadata": {},
   "outputs": [],
   "source": [
    "#Your code here; check the shape of A1"
   ]
  },
  {
   "cell_type": "code",
   "execution_count": null,
   "metadata": {},
   "outputs": [],
   "source": [
    "#Your code here; check the shape of A2"
   ]
  },
  {
   "cell_type": "markdown",
   "metadata": {},
   "source": [
    "## Compute the cost function"
   ]
  },
  {
   "cell_type": "markdown",
   "metadata": {},
   "source": [
    "$a^{[2] (i)}$ provides us with the predictions on all the samples, you can then compute the cost $J$ as follows: \n",
    "$$J = - \\frac{1}{m} \\sum\\limits_{i = 0}^{m} \\large\\left(\\small y^{(i)}\\log\\left(a^{[2] (i)}\\right) + (1-y^{(i)})\\log\\left(1- a^{[2] (i)}\\right)  \\large  \\right) $$"
   ]
  },
  {
   "cell_type": "markdown",
   "metadata": {},
   "source": [
    "Write a cost function `compute_cost(A2, Y, parameters)` which returns the associated cost using the formula above."
   ]
  },
  {
   "cell_type": "code",
   "execution_count": null,
   "metadata": {},
   "outputs": [],
   "source": [
    "#Complete the skeleton of this function provided as noted in the comments below.\n",
    "def compute_cost(A2, Y, parameters):\n",
    "    m = np.shape(Y)[1] \n",
    "    \n",
    "    #Implement the formula provided above for the cost, J\n",
    "    #you may wish to do this in multiple steps to avoid an overly large line of code\n",
    "    \n",
    "    return cost"
   ]
  },
  {
   "cell_type": "code",
   "execution_count": 24,
   "metadata": {},
   "outputs": [
    {
     "data": {
      "text/plain": [
       "0.6931475711935989"
      ]
     },
     "execution_count": 24,
     "metadata": {},
     "output_type": "execute_result"
    }
   ],
   "source": [
    "#Use your function as defined above to compute the cost given our problem as defined."
   ]
  },
  {
   "cell_type": "markdown",
   "metadata": {},
   "source": [
    "## Backward propagation"
   ]
  },
  {
   "cell_type": "markdown",
   "metadata": {},
   "source": [
    "Let's now move backwards again. From what you have seen in the lecture, you can use the following expressions to calculate the derivatives with respect to $z$, $W$, and $b$.\n",
    "\n",
    "$ dz^{[2]}= a^{[2]} - y $\n",
    "\n",
    "$ dW^{[2]} = dz^{[2]} a^{[1]T}$\n",
    "\n",
    "$ db^{[2]} = dz^{[2]} $ \n",
    "\n",
    "$ dz^{[1]} =  dW^{[2]T}dz^{[2]} * g'{[1]}(z^{[1]})$\n",
    "\n",
    "$ dW^{[1]} = dz^{[1]} x^T$\n",
    "\n",
    "$ db^{[1]} = dz^{[1]}$\n"
   ]
  },
  {
   "cell_type": "markdown",
   "metadata": {},
   "source": [
    "Recall that $dz^{[1]}$ and $dz^{[2]}$ will be matrices of shape (6, 500) and (1, 500) respectively. $dz^{[1]}$ and  $dz^{[2]}$ however are matrices of size (6, 1) and (1, 1). We'll need to take the averages over the 500 columns in the matrices. You can use python code of the form ```(1/m) * np.sum(dZ1,  axis=1, keepdims=True)```. We need to apply $1/m$ to compute $dW^{[1]}$ and $dW^{[2]}$ as well.\n"
   ]
  },
  {
   "cell_type": "markdown",
   "metadata": {},
   "source": [
    "About $g^{[1]'}(z^{[1]})$: since $g^{[1]}(z^{[1]})$ is the tanh-function, its derivative $g^{[1]'}(z^{[1]})$ is equal to $1-a^2$. You can use `np.power` to compute this."
   ]
  },
  {
   "cell_type": "code",
   "execution_count": null,
   "metadata": {},
   "outputs": [],
   "source": [
    "def backward_propagation(parameters, fw_out, X, Y):\n",
    "    m = X.shape[1]\n",
    "\n",
    "    W1 = #Your code here; retrieve the appropriate parameter from the parameters variable\n",
    "    W2 = #Your code here; retrieve the appropriate parameter from the parameters variable\n",
    "\n",
    "    A1 = #Your code here; retrieve the appropriate parameter from fw_out\n",
    "    A2 = #Your code here; retrieve the appropriate parameter from fw_out\n",
    "    \n",
    "    dZ2 = #Your code here; use the formula provided above\n",
    "    dW2 = (1/m) * np.dot(dZ2, A1.T) #Code provided\n",
    "    db2 = (1/m) * np.sum(dZ2,  axis=1, keepdims=True) #Code provided\n",
    "    dZ1 = #Your code here; use the formula provided above\n",
    "    dW1 = #Mirror the code provided above\n",
    "    db1 = #Mirror the code provided above\n",
    "    \n",
    "    bw_out = {\"dW1\": dW1,\n",
    "              \"db1\": db1,\n",
    "              \"dW2\": dW2,\n",
    "              \"db2\": db2}\n",
    "    \n",
    "    return bw_out"
   ]
  },
  {
   "cell_type": "code",
   "execution_count": null,
   "metadata": {},
   "outputs": [],
   "source": [
    "bw_out = #Use your function above to create the bw_out variable"
   ]
  },
  {
   "cell_type": "markdown",
   "metadata": {},
   "source": [
    "## Update the parameters"
   ]
  },
  {
   "cell_type": "markdown",
   "metadata": {},
   "source": [
    "To update the parameters, let's go back and use the outputs of the parameter initialization and the backward propagation."
   ]
  },
  {
   "cell_type": "code",
   "execution_count": null,
   "metadata": {},
   "outputs": [],
   "source": [
    "def update_parameters(parameters, bw_out, alpha = 0.7):\n",
    "\n",
    "    W1 = parameters[\"W1\"]\n",
    "    b1 = parameters[\"b1\"]\n",
    "    W2 = parameters[\"W2\"]\n",
    "    b2 = parameters[\"b2\"]\n",
    "\n",
    "    dW1 = bw_out[\"dW1\"]\n",
    "    db1 = bw_out[\"db1\"]\n",
    "    dW2 = bw_out[\"dW2\"]\n",
    "    db2 = bw_out[\"db2\"]\n",
    "    \n",
    "    W1 = #Your code here; update the values for each variable\n",
    "    b1 = #Your code here; update the values for each variable\n",
    "    W2 = #Your code here; update the values for each variable\n",
    "    b2 = #Your code here; update the values for each variable\n",
    "    \n",
    "    parameters = {\"W1\": W1,\n",
    "                  \"b1\": b1,\n",
    "                  \"W2\": W2,\n",
    "                  \"b2\": b2}\n",
    "    \n",
    "    return parameters"
   ]
  },
  {
   "cell_type": "code",
   "execution_count": 28,
   "metadata": {},
   "outputs": [
    {
     "data": {
      "text/plain": [
       "{'W1': array([[-0.05434644,  0.04968642],\n",
       "        [ 0.01417661, -0.07523762],\n",
       "        [-0.02891073,  0.08262535],\n",
       "        [-0.12131568, -0.02139336],\n",
       "        [ 0.06320089, -0.04360462],\n",
       "        [-0.03403915, -0.00500133]]), 'b1': array([[ 1.32898104e-05],\n",
       "        [-6.19218875e-06],\n",
       "        [-5.56636572e-06],\n",
       "        [-1.09271502e-05],\n",
       "        [ 2.13065980e-05],\n",
       "        [ 4.48639481e-06]]), 'W2': array([[ 0.07449547, -0.03177459, -0.02237429, -0.0215612 ,  0.11034683,\n",
       "          0.10938032]]), 'b2': array([[1.82562182e-06]])}"
      ]
     },
     "execution_count": 28,
     "metadata": {},
     "output_type": "execute_result"
    }
   ],
   "source": [
    "update_parameters(parameters,bw_out) #Simply run this block of code. Output should match the results previewed below."
   ]
  },
  {
   "cell_type": "code",
   "execution_count": null,
   "metadata": {},
   "outputs": [],
   "source": [
    "#Now its time to put it all together to build our full neural network! Complete the templated function below.\n",
    "def nn_model(X, Y, n_1, num_iter = 10000, print_cost=False):\n",
    "    np.random.seed(3)\n",
    "    n_x = np.shape(X)[0] \n",
    "    n_y = np.shape(Y)[0] \n",
    "\n",
    "    parameters = #Your code here; use our previous function above to set parameters.\n",
    "    W1 = parameters[\"W1\"]\n",
    "    b1 = parameters[\"b1\"]\n",
    "    W2 = parameters[\"W2\"]\n",
    "    b2 = parameters[\"b2\"]    \n",
    "\n",
    "    for i in range(0, num_iter):\n",
    "         \n",
    "        # Forward propagation. Inputs: \"X, parameters\". Outputs: \"fw_out\".\n",
    "        fw_out = #Your code here\n",
    "        \n",
    "        # We'll need A2 from fw_out to add it in the cost function\n",
    "        A2 = fw_out[\"A2\"]\n",
    "        \n",
    "        # Use the cost function with inputs: \"A2\", \"Y\", \"parameters\".\n",
    "        cost = #Your code here\n",
    " \n",
    "        # Use the backward propagation function with inputs: \"parameters\", \"fw_out\", \"X\", \"Y\".\n",
    "        bw_out = #Your code here\n",
    " \n",
    "        # Parameter update with gradient descent. Inputs: \"parameters\" and\"bw_out\".\n",
    "        parameters = #Your code here\n",
    "                \n",
    "        # Print the cost every 1000 iterations\n",
    "        if print_cost and i % 1000 == 0:\n",
    "            print (\"Cost after iteration %i: %f\" %(i, cost))\n",
    "\n",
    "    return parameters"
   ]
  },
  {
   "cell_type": "code",
   "execution_count": 30,
   "metadata": {},
   "outputs": [],
   "source": [
    "#Code provided; review for understanding but no editing needed!\n",
    "def predict(parameters, X):\n",
    "    fw_out = forward_propagation(X, parameters)\n",
    "    A2 = fw_out[\"A2\"]\n",
    "\n",
    "    predictions = A2 > 0.5\n",
    "    return predictions"
   ]
  },
  {
   "cell_type": "code",
   "execution_count": 31,
   "metadata": {},
   "outputs": [
    {
     "name": "stdout",
     "output_type": "stream",
     "text": [
      "Cost after iteration 0: 0.693148\n",
      "Cost after iteration 1000: 0.693075\n",
      "Cost after iteration 2000: 0.692952\n",
      "Cost after iteration 3000: 0.507182\n",
      "Cost after iteration 4000: 0.479930\n",
      "Cost after iteration 5000: 0.481106\n",
      "Cost after iteration 6000: 0.481934\n",
      "Cost after iteration 7000: 0.483635\n",
      "Cost after iteration 8000: 0.484555\n",
      "Cost after iteration 9000: 0.485062\n"
     ]
    },
    {
     "data": {
      "text/plain": [
       "Text(0.5,1,'Decision Boundary for neural network with 1 hidden layer')"
      ]
     },
     "execution_count": 31,
     "metadata": {},
     "output_type": "execute_result"
    },
    {
     "data": {
      "image/png": "[encoded data removed]",
      "text/plain": [
       "<Figure size 432x432 with 1 Axes>"
      ]
     },
     "metadata": {},
     "output_type": "display_data"
    }
   ],
   "source": [
    "#Code provided; review for understanding but no editing needed!\n",
    "parameters = nn_model(X_nn, Y_nn, n_1 = 6, num_iter = 10000, print_cost = True)\n",
    "\n",
    "# Plot the decision boundary\n",
    "plot_decision_boundary(lambda X: predict(parameters, X.T)) \n",
    "plt.title(\"Decision Boundary for neural network with 1 hidden layer\")"
   ]
  },
  {
   "cell_type": "code",
   "execution_count": 32,
   "metadata": {},
   "outputs": [],
   "source": [
    "#Code provided; review for understanding but no editing needed!\n",
    "nn_predict = predict(parameters, X.T)"
   ]
  },
  {
   "cell_type": "code",
   "execution_count": 33,
   "metadata": {},
   "outputs": [
    {
     "name": "stdout",
     "output_type": "stream",
     "text": [
      "The logistic regression model has an accuracy of: 73.4%\n"
     ]
    }
   ],
   "source": [
    "#Code provided; review for understanding but no editing needed!\n",
    "print ('The logistic regression model has an accuracy of: ' \n",
    "       + str(np.sum(nn_predict == Y)/sample_size*100) + '%')"
   ]
  },
  {
   "cell_type": "markdown",
   "metadata": {},
   "source": [
    "## Additional Resources\n",
    "\n",
    "This example should be another helpful introduction to building neural networks. For more information about introductory neural networks, see some of the resources below."
   ]
  },
  {
   "cell_type": "markdown",
   "metadata": {},
   "source": [
    "https://github.com/dennybritz/nn-from-scratch/blob/master/nn-from-scratch.ipynb --> helper function\n",
    "\n",
    "http://www.wildml.com/2015/09/implementing-a-neural-network-from-scratch/\n",
    "\n",
    "https://beckernick.github.io/neural-network-scratch/\n",
    "\n",
    "http://scikit-learn.org/stable/modules/generated/sklearn.datasets.make_circles.html"
   ]
  },
  {
   "cell_type": "markdown",
   "metadata": {},
   "source": [
    "## Summary "
   ]
  },
  {
   "cell_type": "markdown",
   "metadata": {},
   "source": [
    "Congratulations! You just coded a neural network!\n",
    "\n",
    "You learned how to create a \"deeper\" (yet shallow) neural network, with tanh activation functions in the hidden layer. You noticed how you can notably improve results compared to a logistic regression model! Hopefully, this illustrates well why neural networks are so useful. \n",
    "\n",
    "Things you can do from here:\n",
    "- Increase/decrease the number of nodes in the hidden layer\n",
    "- Change learning rate alpha.\n",
    "- Change the noise parameter in your data set."
   ]
  }
 ],
 "metadata": {
  "kernelspec": {
   "display_name": "Python 3",
   "language": "python",
   "name": "python3"
  },
  "language_info": {
   "codemirror_mode": {
    "name": "ipython",
    "version": 3
   },
   "file_extension": ".py",
   "mimetype": "text/x-python",
   "name": "python",
   "nbconvert_exporter": "python",
   "pygments_lexer": "ipython3",
   "version": "3.6.6"
  }
 },
 "nbformat": 4,
 "nbformat_minor": 2
}
